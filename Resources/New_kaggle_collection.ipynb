{
 "cells": [
  {
   "cell_type": "markdown",
   "id": "fda56259",
   "metadata": {},
   "source": [
    "# Data files:\n",
    "* Kaggle data (df_2_kaggle.csv)\n",
    "* activity data (parks_activity_data.json)\n",
    "* data.world data (us-national-parks-dataset.json)"
   ]
  },
  {
   "cell_type": "code",
   "execution_count": 1,
   "id": "b8b488b9",
   "metadata": {},
   "outputs": [],
   "source": [
    "# Dependencies\n",
    "import pandas as pd\n",
    "import json\n",
    "import csv\n",
    "import pymongo\n",
    "from pymongo import MongoClient"
   ]
  },
  {
   "cell_type": "markdown",
   "id": "3a3e95be",
   "metadata": {},
   "source": [
    "### Kaggle data (df_2_kaggle.csv)"
   ]
  },
  {
   "cell_type": "code",
   "execution_count": 4,
   "id": "d80c154a",
   "metadata": {},
   "outputs": [],
   "source": [
    "\n",
    "    \n",
    "# Imported df_2_kaggle.csv\n",
    "import pandas as pd\n",
    "df_2_kaggle = pd.read_csv(r'df_2_kaggle.csv')\n",
    "\n",
    "# Deleted columns Description\n",
    "df_2_kaggle.drop(['Description'], axis=1, inplace=True)\n",
    "\n",
    "# Deleted columns Area\n",
    "df_2_kaggle.drop(['Area'], axis=1, inplace=True)\n",
    "\n",
    "# Deleted columns Location\n",
    "df_2_kaggle.drop(['Location'], axis=1, inplace=True)\n",
    "\n",
    "# Renamed columns visitors(2021)\n",
    "df_2_kaggle.rename(columns={'Recreation visitors (2021)[11]': 'visitors(2021)'}, inplace=True)\n"
   ]
  },
  {
   "cell_type": "code",
   "execution_count": 5,
   "id": "caf27fe2",
   "metadata": {
    "scrolled": false
   },
   "outputs": [
    {
     "name": "stdout",
     "output_type": "stream",
     "text": [
      "[{'Unnamed: 0': 0, 'Name': 'Acadia', 'Region': 'East', 'State': 'Maine', 'Date established': '2/26/2019', 'visitors(2021)': 4069098}, {'Unnamed: 0': 1, 'Name': 'American Samoa', 'Region': 'West', 'State': 'American Samoa', 'Date established': '10/31/1988', 'visitors(2021)': 8495}, {'Unnamed: 0': 2, 'Name': 'Arches', 'Region': 'West', 'State': 'Utah', 'Date established': '11/12/1971', 'visitors(2021)': 1806865}, {'Unnamed: 0': 3, 'Name': 'Badlands', 'Region': 'Central', 'State': 'South Dakota', 'Date established': '11/10/1978', 'visitors(2021)': 1224226}, {'Unnamed: 0': 4, 'Name': 'Big Bend', 'Region': 'Central', 'State': 'Texas', 'Date established': '6/12/1944', 'visitors(2021)': 581220}, {'Unnamed: 0': 5, 'Name': 'Biscayne', 'Region': 'East', 'State': 'Florida', 'Date established': '6/28/1980', 'visitors(2021)': 705655}, {'Unnamed: 0': 6, 'Name': 'Black Canyon of the Gunnison', 'Region': 'Central', 'State': 'Colorado', 'Date established': '10/21/1999', 'visitors(2021)': 308910}, {'Unnamed: 0': 7, 'Name': 'Bryce Canyon', 'Region': 'West', 'State': 'Utah', 'Date established': '2/25/2028', 'visitors(2021)': 2104600}, {'Unnamed: 0': 8, 'Name': 'Canyonlands', 'Region': 'West', 'State': 'Utah', 'Date established': '9/12/1964', 'visitors(2021)': 911594}, {'Unnamed: 0': 9, 'Name': 'Capitol Reef', 'Region': 'West', 'State': 'Utah', 'Date established': '12/18/1971', 'visitors(2021)': 1405353}, {'Unnamed: 0': 10, 'Name': 'Carlsbad Caverns', 'Region': 'West', 'State': 'New Mexico', 'Date established': '5/14/1930', 'visitors(2021)': 349244}, {'Unnamed: 0': 11, 'Name': 'Channel Islands', 'Region': 'West', 'State': 'California', 'Date established': '3/5/1980', 'visitors(2021)': 319252}, {'Unnamed: 0': 12, 'Name': 'Congaree', 'Region': 'East', 'State': 'South Carolina', 'Date established': '11/10/2003', 'visitors(2021)': 215181}, {'Unnamed: 0': 13, 'Name': 'Crater Lake', 'Region': 'West', 'State': 'Oregon', 'Date established': '5/22/2002', 'visitors(2021)': 647751}, {'Unnamed: 0': 14, 'Name': 'Cuyahoga Valley', 'Region': 'Central', 'State': 'Ohio', 'Date established': '10/11/2000', 'visitors(2021)': 2575275}, {'Unnamed: 0': 15, 'Name': 'Death Valley', 'Region': 'West', 'State': 'California, Nevada', 'Date established': '10/31/1994', 'visitors(2021)': 1146551}, {'Unnamed: 0': 16, 'Name': 'Denali', 'Region': 'West', 'State': 'Alaska', 'Date established': '2/26/2017', 'visitors(2021)': 229521}, {'Unnamed: 0': 17, 'Name': 'Dry Tortugas', 'Region': 'East', 'State': 'Florida', 'Date established': '10/26/1992', 'visitors(2021)': 83817}, {'Unnamed: 0': 18, 'Name': 'Everglades', 'Region': 'East', 'State': 'Florida', 'Date established': '5/30/1934', 'visitors(2021)': 942130}, {'Unnamed: 0': 19, 'Name': 'Gates of the Arctic', 'Region': 'West', 'State': 'Alaska', 'Date established': '12/2/1980', 'visitors(2021)': 7362}, {'Unnamed: 0': 20, 'Name': 'Gateway Arch', 'Region': 'Central', 'State': 'Missouri', 'Date established': '2/22/2018', 'visitors(2021)': 1145081}, {'Unnamed: 0': 21, 'Name': 'Glacier', 'Region': 'West', 'State': 'Montana', 'Date established': '5/11/2010', 'visitors(2021)': 3081656}, {'Unnamed: 0': 22, 'Name': 'Glacier Bay', 'Region': 'West', 'State': 'Alaska', 'Date established': '12/2/1980', 'visitors(2021)': 89768}, {'Unnamed: 0': 23, 'Name': 'Grand Canyon', 'Region': 'West', 'State': 'Arizona', 'Date established': '2/26/2019', 'visitors(2021)': 4532677}, {'Unnamed: 0': 24, 'Name': 'Grand Teton', 'Region': 'West', 'State': 'Wyoming', 'Date established': '2/26/2029', 'visitors(2021)': 3885230}, {'Unnamed: 0': 25, 'Name': 'Great Basin', 'Region': 'West', 'State': 'Nevada', 'Date established': '10/27/1986', 'visitors(2021)': 144875}, {'Unnamed: 0': 26, 'Name': 'Great Sand Dunes', 'Region': 'Central', 'State': 'Colorado', 'Date established': '9/24/2004', 'visitors(2021)': 602613}, {'Unnamed: 0': 27, 'Name': 'Great Smoky Mountains', 'Region': 'East', 'State': 'North Carolina, Tennessee', 'Date established': '6/15/1934', 'visitors(2021)': 14161548}, {'Unnamed: 0': 28, 'Name': 'Guadalupe Mountains', 'Region': 'Central', 'State': 'Texas', 'Date established': '10/15/1966', 'visitors(2021)': 243291}, {'Unnamed: 0': 29, 'Name': 'Haleakala', 'Region': 'West', 'State': 'Hawaii', 'Date established': '7/1/1961', 'visitors(2021)': 853181}, {'Unnamed: 0': 30, 'Name': 'Hawai?i Volcanoes', 'Region': 'West', 'State': 'Hawaii', 'Date established': '8/1/2016', 'visitors(2021)': 1262747}, {'Unnamed: 0': 31, 'Name': 'Hot Springs', 'Region': 'Central', 'State': 'Arkansas', 'Date established': '3/4/2021', 'visitors(2021)': 2162884}, {'Unnamed: 0': 32, 'Name': 'Indiana Dunes', 'Region': 'Central', 'State': 'Indiana', 'Date established': '2/15/2019', 'visitors(2021)': 3177210}, {'Unnamed: 0': 33, 'Name': 'Isle Royale', 'Region': 'Central', 'State': 'Michigan', 'Date established': '4/3/1940', 'visitors(2021)': 25844}, {'Unnamed: 0': 34, 'Name': 'Joshua Tree', 'Region': 'West', 'State': 'California', 'Date established': '10/31/1994', 'visitors(2021)': 3064400}, {'Unnamed: 0': 35, 'Name': 'Katmai', 'Region': 'West', 'State': 'Alaska', 'Date established': '12/2/1980', 'visitors(2021)': 24764}, {'Unnamed: 0': 36, 'Name': 'Kenai Fjords', 'Region': 'West', 'State': 'Alaska', 'Date established': '12/2/1980', 'visitors(2021)': 411782}, {'Unnamed: 0': 37, 'Name': 'Kings Canyon', 'Region': 'West', 'State': 'California', 'Date established': '3/4/1940', 'visitors(2021)': 562918}, {'Unnamed: 0': 38, 'Name': 'Kobuk Valley', 'Region': 'West', 'State': 'Alaska', 'Date established': '12/2/1980', 'visitors(2021)': 11540}, {'Unnamed: 0': 39, 'Name': 'Lake Clark', 'Region': 'West', 'State': 'Alaska', 'Date established': '12/2/1980', 'visitors(2021)': 18278}, {'Unnamed: 0': 40, 'Name': 'Lassen Volcanic', 'Region': 'West', 'State': 'California', 'Date established': '8/9/2016', 'visitors(2021)': 359635}, {'Unnamed: 0': 41, 'Name': 'Mammoth Cave', 'Region': 'Central', 'State': 'Kentucky', 'Date established': '7/1/1941', 'visitors(2021)': 515774}, {'Unnamed: 0': 42, 'Name': 'Mesa Verde', 'Region': 'Central', 'State': 'Colorado', 'Date established': '6/29/2006', 'visitors(2021)': 548477}, {'Unnamed: 0': 43, 'Name': 'Mount Rainier', 'Region': 'West', 'State': 'Washington', 'Date established': '3/2/1899', 'visitors(2021)': 1670063}, {'Unnamed: 0': 44, 'Name': 'New River Gorge', 'Region': 'East', 'State': 'West Virginia', 'Date established': '12/27/2020', 'visitors(2021)': 1682720}, {'Unnamed: 0': 45, 'Name': 'North Cascades', 'Region': 'West', 'State': 'Washington', 'Date established': '10/2/1968', 'visitors(2021)': 17855}, {'Unnamed: 0': 46, 'Name': 'Olympic', 'Region': 'West', 'State': 'Washington', 'Date established': '6/29/1938', 'visitors(2021)': 2718925}, {'Unnamed: 0': 47, 'Name': 'Petrified Forest', 'Region': 'West', 'State': 'Arizona', 'Date established': '12/9/1962', 'visitors(2021)': 590334}, {'Unnamed: 0': 48, 'Name': 'Pinnacles', 'Region': 'West', 'State': 'California', 'Date established': '1/10/2013', 'visitors(2021)': 348857}, {'Unnamed: 0': 49, 'Name': 'Redwood', 'Region': 'West', 'State': 'California', 'Date established': '10/2/1968', 'visitors(2021)': 435879}, {'Unnamed: 0': 50, 'Name': 'Rocky Mountain', 'Region': 'Central', 'State': 'Colorado', 'Date established': '1/26/2015', 'visitors(2021)': 4434848}, {'Unnamed: 0': 51, 'Name': 'Saguaro', 'Region': 'West', 'State': 'Arizona', 'Date established': '10/14/1994', 'visitors(2021)': 1079786}, {'Unnamed: 0': 52, 'Name': 'Sequoia', 'Region': 'West', 'State': 'California', 'Date established': '9/25/1890', 'visitors(2021)': 1059548}, {'Unnamed: 0': 53, 'Name': 'Shenandoah', 'Region': 'East', 'State': 'Virginia', 'Date established': '12/26/1935', 'visitors(2021)': 1592312}, {'Unnamed: 0': 54, 'Name': 'Theodore Roosevelt', 'Region': 'Central', 'State': 'North Dakota', 'Date established': '11/10/1978', 'visitors(2021)': 796085}, {'Unnamed: 0': 55, 'Name': 'Virgin Islands', 'Region': 'East', 'State': 'U.S. Virgin Islands', 'Date established': '8/2/1956', 'visitors(2021)': 323999}, {'Unnamed: 0': 56, 'Name': 'Voyageurs', 'Region': 'Central', 'State': 'Minnesota', 'Date established': '4/8/1975', 'visitors(2021)': 243042}, {'Unnamed: 0': 57, 'Name': 'White Sands', 'Region': 'West', 'State': 'New Mexico', 'Date established': '12/20/2019', 'visitors(2021)': 782469}, {'Unnamed: 0': 58, 'Name': 'Wind Cave', 'Region': 'Central', 'State': 'South Dakota', 'Date established': '1/9/2003', 'visitors(2021)': 709001}, {'Unnamed: 0': 59, 'Name': 'Wrangell-St. Elias', 'Region': 'West', 'State': 'Alaska', 'Date established': '12/2/1980', 'visitors(2021)': 50189}, {'Unnamed: 0': 60, 'Name': 'Yellowstone', 'Region': 'West', 'State': 'Wyoming, Montana, Idaho', 'Date established': '3/1/1872', 'visitors(2021)': 4860242}, {'Unnamed: 0': 61, 'Name': 'Yosemite', 'Region': 'West', 'State': 'California', 'Date established': '10/1/1890', 'visitors(2021)': 3287595}, {'Unnamed: 0': 62, 'Name': 'Zion', 'Region': 'West', 'State': 'Utah', 'Date established': '11/19/2019', 'visitors(2021)': 5039835}]\n"
     ]
    }
   ],
   "source": [
    "data = df_2_kaggle.to_dict(\"records\")\n",
    "print(data)"
   ]
  },
  {
   "cell_type": "code",
   "execution_count": 7,
   "id": "579f639f",
   "metadata": {},
   "outputs": [],
   "source": [
    "from pymongo import MongoClient\n",
    "\n",
    "# Connect to the MongoDB client\n",
    "client = MongoClient()\n",
    "\n",
    "# Access the kaggle collection\n",
    "db = client.NationalTreasure_db\n",
    "collection = db.kaggle\n",
    "\n",
    "# drop existing collection first\n",
    "collection.drop()\n",
    "\n",
    "# Insert the data into the kaggle collection\n",
    "try:\n",
    "    result = collection.insert_many(data)\n",
    "except BulkWriteError as bwe:\n",
    "    print(bwe.details)\n",
    "\n",
    "\n"
   ]
  },
  {
   "cell_type": "code",
   "execution_count": 10,
   "id": "1f9a5756",
   "metadata": {},
   "outputs": [],
   "source": [
    "from mitosheet import *; register_analysis(\"id-qxqrfpvghz\");\n",
    "    \n",
    "# Imported df_2_kaggle.csv\n",
    "import pandas as pd\n",
    "df_2_kaggle = pd.read_csv(r'df_2_kaggle.csv')\n",
    "# Define the 'NationalTreasure_db' database in Mongo\n",
    "db = client.NationalTreasure_db\n",
    "\n",
    "# Drop the 'kaggle' collection from the 'NationalTreasure_db' database\n",
    "db.kaggle.drop()\n",
    "\n"
   ]
  },
  {
   "cell_type": "code",
   "execution_count": 24,
   "id": "79d4c0e2",
   "metadata": {},
   "outputs": [
    {
     "data": {
      "text/plain": [
       "<pymongo.results.InsertManyResult at 0x17cc128aa08>"
      ]
     },
     "execution_count": 24,
     "metadata": {},
     "output_type": "execute_result"
    }
   ],
   "source": [
    "# connect to MongoDB\n",
    "client = pymongo.MongoClient('mongodb://localhost:27017/')\n",
    "\n",
    "# select the database and collection\n",
    "db = client.NationalTreasure_db\n",
    "collection = db.kaggle\n",
    "\n",
    "# insert the data\n",
    "collection.insert_many(data)\n"
   ]
  },
  {
   "cell_type": "code",
   "execution_count": null,
   "id": "9b0004a2",
   "metadata": {},
   "outputs": [],
   "source": []
  }
 ],
 "metadata": {
  "kernelspec": {
   "display_name": "Python 3 (ipykernel)",
   "language": "python",
   "name": "python3"
  },
  "language_info": {
   "codemirror_mode": {
    "name": "ipython",
    "version": 3
   },
   "file_extension": ".py",
   "mimetype": "text/x-python",
   "name": "python",
   "nbconvert_exporter": "python",
   "pygments_lexer": "ipython3",
   "version": "3.7.7"
  }
 },
 "nbformat": 4,
 "nbformat_minor": 5
}
