{
 "cells": [
  {
   "cell_type": "markdown",
   "id": "b84091a9",
   "metadata": {},
   "source": [
    "# Data files:\n",
    "* Kaggle data (df_2_kaggle.csv)\n",
    "* activity data (parks_activity_data.json)\n",
    "* data.world data (us-national-parks-dataset.json)"
   ]
  },
  {
   "cell_type": "code",
   "execution_count": 1,
   "id": "8c15ed77",
   "metadata": {},
   "outputs": [],
   "source": [
    "# Dependencies\n",
    "import pandas as pd\n",
    "import json\n",
    "import csv\n",
    "import pymongo\n",
    "from pymongo import MongoClient"
   ]
  },
  {
   "cell_type": "markdown",
   "id": "2cf5f57d",
   "metadata": {},
   "source": [
    "### Kaggle data (df_2_kaggle.csv)"
   ]
  },
  {
   "cell_type": "code",
   "execution_count": null,
   "id": "23bde5dc",
   "metadata": {},
   "outputs": [],
   "source": []
  },
  {
   "cell_type": "code",
   "execution_count": 2,
   "id": "bcfedc59",
   "metadata": {},
   "outputs": [
    {
     "ename": "KeyError",
     "evalue": "\"['Area'] not found in axis\"",
     "output_type": "error",
     "traceback": [
      "\u001b[1;31m---------------------------------------------------------------------------\u001b[0m",
      "\u001b[1;31mKeyError\u001b[0m                                  Traceback (most recent call last)",
      "\u001b[1;32m~\\AppData\\Local\\Temp\\ipykernel_17348\\2579699731.py\u001b[0m in \u001b[0;36m<module>\u001b[1;34m\u001b[0m\n\u001b[0;32m      7\u001b[0m \u001b[1;33m\u001b[0m\u001b[0m\n\u001b[0;32m      8\u001b[0m \u001b[1;31m# Deleted columns Area\u001b[0m\u001b[1;33m\u001b[0m\u001b[1;33m\u001b[0m\u001b[1;33m\u001b[0m\u001b[0m\n\u001b[1;32m----> 9\u001b[1;33m \u001b[0mdf_2_kaggle\u001b[0m\u001b[1;33m.\u001b[0m\u001b[0mdrop\u001b[0m\u001b[1;33m(\u001b[0m\u001b[1;33m[\u001b[0m\u001b[1;34m'Area'\u001b[0m\u001b[1;33m]\u001b[0m\u001b[1;33m,\u001b[0m \u001b[0maxis\u001b[0m\u001b[1;33m=\u001b[0m\u001b[1;36m1\u001b[0m\u001b[1;33m,\u001b[0m \u001b[0minplace\u001b[0m\u001b[1;33m=\u001b[0m\u001b[1;32mTrue\u001b[0m\u001b[1;33m)\u001b[0m\u001b[1;33m\u001b[0m\u001b[1;33m\u001b[0m\u001b[0m\n\u001b[0m\u001b[0;32m     10\u001b[0m \u001b[1;33m\u001b[0m\u001b[0m\n\u001b[0;32m     11\u001b[0m \u001b[1;31m# Deleted columns Location\u001b[0m\u001b[1;33m\u001b[0m\u001b[1;33m\u001b[0m\u001b[1;33m\u001b[0m\u001b[0m\n",
      "\u001b[1;32m~\\anaconda3\\envs\\PythonData\\lib\\site-packages\\pandas\\util\\_decorators.py\u001b[0m in \u001b[0;36mwrapper\u001b[1;34m(*args, **kwargs)\u001b[0m\n\u001b[0;32m    309\u001b[0m                     \u001b[0mstacklevel\u001b[0m\u001b[1;33m=\u001b[0m\u001b[0mstacklevel\u001b[0m\u001b[1;33m,\u001b[0m\u001b[1;33m\u001b[0m\u001b[1;33m\u001b[0m\u001b[0m\n\u001b[0;32m    310\u001b[0m                 )\n\u001b[1;32m--> 311\u001b[1;33m             \u001b[1;32mreturn\u001b[0m \u001b[0mfunc\u001b[0m\u001b[1;33m(\u001b[0m\u001b[1;33m*\u001b[0m\u001b[0margs\u001b[0m\u001b[1;33m,\u001b[0m \u001b[1;33m**\u001b[0m\u001b[0mkwargs\u001b[0m\u001b[1;33m)\u001b[0m\u001b[1;33m\u001b[0m\u001b[1;33m\u001b[0m\u001b[0m\n\u001b[0m\u001b[0;32m    312\u001b[0m \u001b[1;33m\u001b[0m\u001b[0m\n\u001b[0;32m    313\u001b[0m         \u001b[1;32mreturn\u001b[0m \u001b[0mwrapper\u001b[0m\u001b[1;33m\u001b[0m\u001b[1;33m\u001b[0m\u001b[0m\n",
      "\u001b[1;32m~\\anaconda3\\envs\\PythonData\\lib\\site-packages\\pandas\\core\\frame.py\u001b[0m in \u001b[0;36mdrop\u001b[1;34m(self, labels, axis, index, columns, level, inplace, errors)\u001b[0m\n\u001b[0;32m   4911\u001b[0m             \u001b[0mlevel\u001b[0m\u001b[1;33m=\u001b[0m\u001b[0mlevel\u001b[0m\u001b[1;33m,\u001b[0m\u001b[1;33m\u001b[0m\u001b[1;33m\u001b[0m\u001b[0m\n\u001b[0;32m   4912\u001b[0m             \u001b[0minplace\u001b[0m\u001b[1;33m=\u001b[0m\u001b[0minplace\u001b[0m\u001b[1;33m,\u001b[0m\u001b[1;33m\u001b[0m\u001b[1;33m\u001b[0m\u001b[0m\n\u001b[1;32m-> 4913\u001b[1;33m             \u001b[0merrors\u001b[0m\u001b[1;33m=\u001b[0m\u001b[0merrors\u001b[0m\u001b[1;33m,\u001b[0m\u001b[1;33m\u001b[0m\u001b[1;33m\u001b[0m\u001b[0m\n\u001b[0m\u001b[0;32m   4914\u001b[0m         )\n\u001b[0;32m   4915\u001b[0m \u001b[1;33m\u001b[0m\u001b[0m\n",
      "\u001b[1;32m~\\anaconda3\\envs\\PythonData\\lib\\site-packages\\pandas\\core\\generic.py\u001b[0m in \u001b[0;36mdrop\u001b[1;34m(self, labels, axis, index, columns, level, inplace, errors)\u001b[0m\n\u001b[0;32m   4148\u001b[0m         \u001b[1;32mfor\u001b[0m \u001b[0maxis\u001b[0m\u001b[1;33m,\u001b[0m \u001b[0mlabels\u001b[0m \u001b[1;32min\u001b[0m \u001b[0maxes\u001b[0m\u001b[1;33m.\u001b[0m\u001b[0mitems\u001b[0m\u001b[1;33m(\u001b[0m\u001b[1;33m)\u001b[0m\u001b[1;33m:\u001b[0m\u001b[1;33m\u001b[0m\u001b[1;33m\u001b[0m\u001b[0m\n\u001b[0;32m   4149\u001b[0m             \u001b[1;32mif\u001b[0m \u001b[0mlabels\u001b[0m \u001b[1;32mis\u001b[0m \u001b[1;32mnot\u001b[0m \u001b[1;32mNone\u001b[0m\u001b[1;33m:\u001b[0m\u001b[1;33m\u001b[0m\u001b[1;33m\u001b[0m\u001b[0m\n\u001b[1;32m-> 4150\u001b[1;33m                 \u001b[0mobj\u001b[0m \u001b[1;33m=\u001b[0m \u001b[0mobj\u001b[0m\u001b[1;33m.\u001b[0m\u001b[0m_drop_axis\u001b[0m\u001b[1;33m(\u001b[0m\u001b[0mlabels\u001b[0m\u001b[1;33m,\u001b[0m \u001b[0maxis\u001b[0m\u001b[1;33m,\u001b[0m \u001b[0mlevel\u001b[0m\u001b[1;33m=\u001b[0m\u001b[0mlevel\u001b[0m\u001b[1;33m,\u001b[0m \u001b[0merrors\u001b[0m\u001b[1;33m=\u001b[0m\u001b[0merrors\u001b[0m\u001b[1;33m)\u001b[0m\u001b[1;33m\u001b[0m\u001b[1;33m\u001b[0m\u001b[0m\n\u001b[0m\u001b[0;32m   4151\u001b[0m \u001b[1;33m\u001b[0m\u001b[0m\n\u001b[0;32m   4152\u001b[0m         \u001b[1;32mif\u001b[0m \u001b[0minplace\u001b[0m\u001b[1;33m:\u001b[0m\u001b[1;33m\u001b[0m\u001b[1;33m\u001b[0m\u001b[0m\n",
      "\u001b[1;32m~\\anaconda3\\envs\\PythonData\\lib\\site-packages\\pandas\\core\\generic.py\u001b[0m in \u001b[0;36m_drop_axis\u001b[1;34m(self, labels, axis, level, errors)\u001b[0m\n\u001b[0;32m   4183\u001b[0m                 \u001b[0mnew_axis\u001b[0m \u001b[1;33m=\u001b[0m \u001b[0maxis\u001b[0m\u001b[1;33m.\u001b[0m\u001b[0mdrop\u001b[0m\u001b[1;33m(\u001b[0m\u001b[0mlabels\u001b[0m\u001b[1;33m,\u001b[0m \u001b[0mlevel\u001b[0m\u001b[1;33m=\u001b[0m\u001b[0mlevel\u001b[0m\u001b[1;33m,\u001b[0m \u001b[0merrors\u001b[0m\u001b[1;33m=\u001b[0m\u001b[0merrors\u001b[0m\u001b[1;33m)\u001b[0m\u001b[1;33m\u001b[0m\u001b[1;33m\u001b[0m\u001b[0m\n\u001b[0;32m   4184\u001b[0m             \u001b[1;32melse\u001b[0m\u001b[1;33m:\u001b[0m\u001b[1;33m\u001b[0m\u001b[1;33m\u001b[0m\u001b[0m\n\u001b[1;32m-> 4185\u001b[1;33m                 \u001b[0mnew_axis\u001b[0m \u001b[1;33m=\u001b[0m \u001b[0maxis\u001b[0m\u001b[1;33m.\u001b[0m\u001b[0mdrop\u001b[0m\u001b[1;33m(\u001b[0m\u001b[0mlabels\u001b[0m\u001b[1;33m,\u001b[0m \u001b[0merrors\u001b[0m\u001b[1;33m=\u001b[0m\u001b[0merrors\u001b[0m\u001b[1;33m)\u001b[0m\u001b[1;33m\u001b[0m\u001b[1;33m\u001b[0m\u001b[0m\n\u001b[0m\u001b[0;32m   4186\u001b[0m             \u001b[0mresult\u001b[0m \u001b[1;33m=\u001b[0m \u001b[0mself\u001b[0m\u001b[1;33m.\u001b[0m\u001b[0mreindex\u001b[0m\u001b[1;33m(\u001b[0m\u001b[1;33m**\u001b[0m\u001b[1;33m{\u001b[0m\u001b[0maxis_name\u001b[0m\u001b[1;33m:\u001b[0m \u001b[0mnew_axis\u001b[0m\u001b[1;33m}\u001b[0m\u001b[1;33m)\u001b[0m\u001b[1;33m\u001b[0m\u001b[1;33m\u001b[0m\u001b[0m\n\u001b[0;32m   4187\u001b[0m \u001b[1;33m\u001b[0m\u001b[0m\n",
      "\u001b[1;32m~\\anaconda3\\envs\\PythonData\\lib\\site-packages\\pandas\\core\\indexes\\base.py\u001b[0m in \u001b[0;36mdrop\u001b[1;34m(self, labels, errors)\u001b[0m\n\u001b[0;32m   6015\u001b[0m         \u001b[1;32mif\u001b[0m \u001b[0mmask\u001b[0m\u001b[1;33m.\u001b[0m\u001b[0many\u001b[0m\u001b[1;33m(\u001b[0m\u001b[1;33m)\u001b[0m\u001b[1;33m:\u001b[0m\u001b[1;33m\u001b[0m\u001b[1;33m\u001b[0m\u001b[0m\n\u001b[0;32m   6016\u001b[0m             \u001b[1;32mif\u001b[0m \u001b[0merrors\u001b[0m \u001b[1;33m!=\u001b[0m \u001b[1;34m\"ignore\"\u001b[0m\u001b[1;33m:\u001b[0m\u001b[1;33m\u001b[0m\u001b[1;33m\u001b[0m\u001b[0m\n\u001b[1;32m-> 6017\u001b[1;33m                 \u001b[1;32mraise\u001b[0m \u001b[0mKeyError\u001b[0m\u001b[1;33m(\u001b[0m\u001b[1;34mf\"{labels[mask]} not found in axis\"\u001b[0m\u001b[1;33m)\u001b[0m\u001b[1;33m\u001b[0m\u001b[1;33m\u001b[0m\u001b[0m\n\u001b[0m\u001b[0;32m   6018\u001b[0m             \u001b[0mindexer\u001b[0m \u001b[1;33m=\u001b[0m \u001b[0mindexer\u001b[0m\u001b[1;33m[\u001b[0m\u001b[1;33m~\u001b[0m\u001b[0mmask\u001b[0m\u001b[1;33m]\u001b[0m\u001b[1;33m\u001b[0m\u001b[1;33m\u001b[0m\u001b[0m\n\u001b[0;32m   6019\u001b[0m         \u001b[1;32mreturn\u001b[0m \u001b[0mself\u001b[0m\u001b[1;33m.\u001b[0m\u001b[0mdelete\u001b[0m\u001b[1;33m(\u001b[0m\u001b[0mindexer\u001b[0m\u001b[1;33m)\u001b[0m\u001b[1;33m\u001b[0m\u001b[1;33m\u001b[0m\u001b[0m\n",
      "\u001b[1;31mKeyError\u001b[0m: \"['Area'] not found in axis\""
     ]
    }
   ],
   "source": [
    "\n",
    "    \n",
    "# Imported df_2_kaggle.csv\n",
    "import pandas as pd\n",
    "df_2_kaggle = pd.read_csv(r'df_2_kaggle.csv')\n",
    "\n",
    "# Deleted columns Description\n",
    "df_2_kaggle.drop(['Description'], axis=1, inplace=True)\n",
    "\n",
    "# Deleted columns Area\n",
    "df_2_kaggle.drop(['Area'], axis=1, inplace=True)\n",
    "\n",
    "# Deleted columns Location\n",
    "df_2_kaggle.drop(['Location'], axis=1, inplace=True)\n",
    "\n",
    "# Renamed columns visitors(2021)\n",
    "df_2_kaggle.rename(columns={'Recreation visitors (2021)[11]': 'visitors(2021)'}, inplace=True)\n"
   ]
  },
  {
   "cell_type": "code",
   "execution_count": 3,
   "id": "e0591de4",
   "metadata": {
    "scrolled": false
   },
   "outputs": [
    {
     "name": "stdout",
     "output_type": "stream",
     "text": [
      "[{'Unnamed: 0': 0, 'Name': 'Acadia', 'Image': nan, 'Location': 'Maine.mw-parser-output .geo-default,.mw-parser-output .geo-dms,.mw-parser-output .geo-dec{display:inline}.mw-parser-output .geo-nondefault,.mw-parser-output .geo-multi-punct{display:none}.mw-parser-output .longitude,.mw-parser-output .latitude{white-space:nowrap}44°21′N 68°13′W\\ufeff / \\ufeff44.35°N 68.21°W', 'Date established as park[7][12]': 'February 26, 1919', 'Area (2021)[13]': '49,071.40 acres (198.6\\xa0km2)', 'Recreation visitors (2021)[11]': 4069098}, {'Unnamed: 0': 1, 'Name': 'American Samoa', 'Image': nan, 'Location': 'American Samoa14°15′S 170°41′W\\ufeff / \\ufeff14.25°S 170.68°W', 'Date established as park[7][12]': 'October 31, 1988', 'Area (2021)[13]': '8,256.67 acres (33.4\\xa0km2)', 'Recreation visitors (2021)[11]': 8495}, {'Unnamed: 0': 2, 'Name': 'Arches', 'Image': nan, 'Location': 'Utah38°41′N 109°34′W\\ufeff / \\ufeff38.68°N 109.57°W', 'Date established as park[7][12]': 'November 12, 1971', 'Area (2021)[13]': '76,678.98 acres (310.3\\xa0km2)', 'Recreation visitors (2021)[11]': 1806865}, {'Unnamed: 0': 3, 'Name': 'Badlands', 'Image': nan, 'Location': 'South Dakota43°45′N 102°30′W\\ufeff / \\ufeff43.75°N 102.50°W', 'Date established as park[7][12]': 'November 10, 1978', 'Area (2021)[13]': '242,755.94 acres (982.4\\xa0km2)', 'Recreation visitors (2021)[11]': 1224226}, {'Unnamed: 0': 4, 'Name': 'Big Bend', 'Image': nan, 'Location': 'Texas29°15′N 103°15′W\\ufeff / \\ufeff29.25°N 103.25°W', 'Date established as park[7][12]': 'June 12, 1944', 'Area (2021)[13]': '801,163.21 acres (3,242.2\\xa0km2)', 'Recreation visitors (2021)[11]': 581220}, {'Unnamed: 0': 5, 'Name': 'Biscayne', 'Image': nan, 'Location': 'Florida25°39′N 80°05′W\\ufeff / \\ufeff25.65°N 80.08°W', 'Date established as park[7][12]': 'June 28, 1980', 'Area (2021)[13]': '172,971.11 acres (700.0\\xa0km2)', 'Recreation visitors (2021)[11]': 705655}, {'Unnamed: 0': 6, 'Name': 'Black Canyon of the Gunnison', 'Image': nan, 'Location': 'Colorado38°34′N 107°43′W\\ufeff / \\ufeff38.57°N 107.72°W', 'Date established as park[7][12]': 'October 21, 1999', 'Area (2021)[13]': '30,779.83 acres (124.6\\xa0km2)', 'Recreation visitors (2021)[11]': 308910}, {'Unnamed: 0': 7, 'Name': 'Bryce Canyon', 'Image': nan, 'Location': 'Utah37°34′N 112°11′W\\ufeff / \\ufeff37.57°N 112.18°W', 'Date established as park[7][12]': 'February 25, 1928', 'Area (2021)[13]': '35,835.08 acres (145.0\\xa0km2)', 'Recreation visitors (2021)[11]': 2104600}, {'Unnamed: 0': 8, 'Name': 'Canyonlands', 'Image': nan, 'Location': 'Utah38°12′N 109°56′W\\ufeff / \\ufeff38.2°N 109.93°W', 'Date established as park[7][12]': 'September 12, 1964', 'Area (2021)[13]': '337,597.83 acres (1,366.2\\xa0km2)', 'Recreation visitors (2021)[11]': 911594}, {'Unnamed: 0': 9, 'Name': 'Capitol Reef', 'Image': nan, 'Location': 'Utah38°12′N 111°10′W\\ufeff / \\ufeff38.20°N 111.17°W', 'Date established as park[7][12]': 'December 18, 1971', 'Area (2021)[13]': '241,904.50 acres (979.0\\xa0km2)', 'Recreation visitors (2021)[11]': 1405353}, {'Unnamed: 0': 10, 'Name': 'Carlsbad Caverns *', 'Image': nan, 'Location': 'New Mexico32°10′N 104°26′W\\ufeff / \\ufeff32.17°N 104.44°W', 'Date established as park[7][12]': 'May 14, 1930', 'Area (2021)[13]': '46,766.45 acres (189.3\\xa0km2)', 'Recreation visitors (2021)[11]': 349244}, {'Unnamed: 0': 11, 'Name': 'Channel Islands', 'Image': nan, 'Location': 'California34°01′N 119°25′W\\ufeff / \\ufeff34.01°N 119.42°W', 'Date established as park[7][12]': 'March 5, 1980', 'Area (2021)[13]': '249,561.00 acres (1,009.9\\xa0km2)', 'Recreation visitors (2021)[11]': 319252}, {'Unnamed: 0': 12, 'Name': 'Congaree', 'Image': nan, 'Location': 'South Carolina33°47′N 80°47′W\\ufeff / \\ufeff33.78°N 80.78°W', 'Date established as park[7][12]': 'November 10, 2003', 'Area (2021)[13]': '26,692.60 acres (108.0\\xa0km2)', 'Recreation visitors (2021)[11]': 215181}, {'Unnamed: 0': 13, 'Name': 'Crater Lake', 'Image': nan, 'Location': 'Oregon42°56′N 122°06′W\\ufeff / \\ufeff42.94°N 122.1°W', 'Date established as park[7][12]': 'May 22, 1902', 'Area (2021)[13]': '183,224.05 acres (741.5\\xa0km2)', 'Recreation visitors (2021)[11]': 647751}, {'Unnamed: 0': 14, 'Name': 'Cuyahoga Valley', 'Image': nan, 'Location': 'Ohio41°14′N 81°33′W\\ufeff / \\ufeff41.24°N 81.55°W', 'Date established as park[7][12]': 'October 11, 2000', 'Area (2021)[13]': '32,571.88 acres (131.8\\xa0km2)', 'Recreation visitors (2021)[11]': 2575275}, {'Unnamed: 0': 15, 'Name': 'Death Valley', 'Image': nan, 'Location': 'California, Nevada36°14′N 116°49′W\\ufeff / \\ufeff36.24°N 116.82°W', 'Date established as park[7][12]': 'October 31, 1994', 'Area (2021)[13]': '3,408,395.63 acres (13,793.3\\xa0km2)', 'Recreation visitors (2021)[11]': 1146551}, {'Unnamed: 0': 16, 'Name': 'Denali', 'Image': nan, 'Location': 'Alaska63°20′N 150°30′W\\ufeff / \\ufeff63.33°N 150.50°W', 'Date established as park[7][12]': 'February 26, 1917', 'Area (2021)[13]': '4,740,911.16 acres (19,185.8\\xa0km2)', 'Recreation visitors (2021)[11]': 229521}, {'Unnamed: 0': 17, 'Name': 'Dry Tortugas', 'Image': nan, 'Location': 'Florida24°38′N 82°52′W\\ufeff / \\ufeff24.63°N 82.87°W', 'Date established as park[7][12]': 'October 26, 1992', 'Area (2021)[13]': '64,701.22 acres (261.8\\xa0km2)', 'Recreation visitors (2021)[11]': 83817}, {'Unnamed: 0': 18, 'Name': 'Everglades', 'Image': nan, 'Location': 'Florida25°19′N 80°56′W\\ufeff / \\ufeff25.32°N 80.93°W', 'Date established as park[7][12]': 'May 30, 1934', 'Area (2021)[13]': '1,508,938.57 acres (6,106.5\\xa0km2)', 'Recreation visitors (2021)[11]': 942130}, {'Unnamed: 0': 19, 'Name': 'Gates of the Arctic', 'Image': nan, 'Location': 'Alaska67°47′N 153°18′W\\ufeff / \\ufeff67.78°N 153.30°W', 'Date established as park[7][12]': 'December 2, 1980', 'Area (2021)[13]': '7,523,897.45 acres (30,448.1\\xa0km2)', 'Recreation visitors (2021)[11]': 7362}, {'Unnamed: 0': 20, 'Name': 'Gateway Arch', 'Image': nan, 'Location': 'Missouri38°38′N 90°11′W\\ufeff / \\ufeff38.63°N 90.19°W', 'Date established as park[7][12]': 'February 22, 2018[47]', 'Area (2021)[13]': '91 acres (0.4\\xa0km2)', 'Recreation visitors (2021)[11]': 1145081}, {'Unnamed: 0': 21, 'Name': 'Glacier', 'Image': nan, 'Location': 'Montana48°48′N 114°00′W\\ufeff / \\ufeff48.80°N 114.00°W', 'Date established as park[7][12]': 'May 11, 1910', 'Area (2021)[13]': '1,013,126.39 acres (4,100.0\\xa0km2)', 'Recreation visitors (2021)[11]': 3081656}, {'Unnamed: 0': 22, 'Name': 'Glacier Bay', 'Image': nan, 'Location': 'Alaska58°30′N 137°00′W\\ufeff / \\ufeff58.50°N 137.00°W', 'Date established as park[7][12]': 'December 2, 1980', 'Area (2021)[13]': '3,223,383.43 acres (13,044.6\\xa0km2)', 'Recreation visitors (2021)[11]': 89768}, {'Unnamed: 0': 23, 'Name': 'Grand Canyon *', 'Image': nan, 'Location': 'Arizona36°04′N 112°08′W\\ufeff / \\ufeff36.06°N 112.14°W', 'Date established as park[7][12]': 'February 26, 1919', 'Area (2021)[13]': '1,201,647.03 acres (4,862.9\\xa0km2)', 'Recreation visitors (2021)[11]': 4532677}, {'Unnamed: 0': 24, 'Name': 'Grand Teton', 'Image': nan, 'Location': 'Wyoming43°44′N 110°48′W\\ufeff / \\ufeff43.73°N 110.80°W', 'Date established as park[7][12]': 'February 26, 1929', 'Area (2021)[13]': '310,044.36 acres (1,254.7\\xa0km2)', 'Recreation visitors (2021)[11]': 3885230}, {'Unnamed: 0': 25, 'Name': 'Great Basin', 'Image': nan, 'Location': 'Nevada38°59′N 114°18′W\\ufeff / \\ufeff38.98°N 114.30°W', 'Date established as park[7][12]': 'October 27, 1986', 'Area (2021)[13]': '77,180.00 acres (312.3\\xa0km2)', 'Recreation visitors (2021)[11]': 144875}, {'Unnamed: 0': 26, 'Name': 'Great Sand Dunes', 'Image': nan, 'Location': 'Colorado37°44′N 105°31′W\\ufeff / \\ufeff37.73°N 105.51°W', 'Date established as park[7][12]': 'September 24, 2004', 'Area (2021)[13]': '107,345.73 acres (434.4\\xa0km2)', 'Recreation visitors (2021)[11]': 602613}, {'Unnamed: 0': 27, 'Name': 'Great Smoky Mountains', 'Image': nan, 'Location': 'North Carolina, Tennessee35°41′N 83°32′W\\ufeff / \\ufeff35.68°N 83.53°W', 'Date established as park[7][12]': 'June 15, 1934', 'Area (2021)[13]': '522,426.88 acres (2,114.2\\xa0km2)', 'Recreation visitors (2021)[11]': 14161548}, {'Unnamed: 0': 28, 'Name': 'Guadalupe Mountains', 'Image': nan, 'Location': 'Texas31°55′N 104°52′W\\ufeff / \\ufeff31.92°N 104.87°W', 'Date established as park[7][12]': 'October 15, 1966', 'Area (2021)[13]': '86,367.10 acres (349.5\\xa0km2)', 'Recreation visitors (2021)[11]': 243291}, {'Unnamed: 0': 29, 'Name': 'Haleakalā', 'Image': nan, 'Location': 'Hawaii20°43′N 156°10′W\\ufeff / \\ufeff20.72°N 156.17°W', 'Date established as park[7][12]': 'July 1, 1961', 'Area (2021)[13]': '33,264.62 acres (134.6\\xa0km2)', 'Recreation visitors (2021)[11]': 853181}, {'Unnamed: 0': 30, 'Name': 'Hawaiʻi Volcanoes', 'Image': nan, 'Location': 'Hawaii19°23′N 155°12′W\\ufeff / \\ufeff19.38°N 155.20°W', 'Date established as park[7][12]': 'August 1, 1916', 'Area (2021)[13]': '325,605.28 acres (1,317.7\\xa0km2)', 'Recreation visitors (2021)[11]': 1262747}, {'Unnamed: 0': 31, 'Name': 'Hot Springs', 'Image': nan, 'Location': 'Arkansas34°31′N 93°03′W\\ufeff / \\ufeff34.51°N 93.05°W', 'Date established as park[7][12]': 'March 4, 1921', 'Area (2021)[13]': '5,554.15 acres (22.5\\xa0km2)', 'Recreation visitors (2021)[11]': 2162884}, {'Unnamed: 0': 32, 'Name': 'Indiana Dunes', 'Image': nan, 'Location': 'Indiana41°39′12″N 87°03′09″W\\ufeff / \\ufeff41.6533°N 87.0524°W', 'Date established as park[7][12]': 'February 15, 2019', 'Area (2021)[13]': '15,349.08 acres (62.1\\xa0km2)', 'Recreation visitors (2021)[11]': 3177210}, {'Unnamed: 0': 33, 'Name': 'Isle Royale', 'Image': nan, 'Location': 'Michigan48°06′N 88°33′W\\ufeff / \\ufeff48.10°N 88.55°W', 'Date established as park[7][12]': 'April 3, 1940', 'Area (2021)[13]': '571,790.30 acres (2,314.0\\xa0km2)', 'Recreation visitors (2021)[11]': 25844}, {'Unnamed: 0': 34, 'Name': 'Joshua Tree', 'Image': nan, 'Location': 'California33°47′N 115°54′W\\ufeff / \\ufeff33.79°N 115.90°W', 'Date established as park[7][12]': 'October 31, 1994', 'Area (2021)[13]': '795,155.85 acres (3,217.9\\xa0km2)', 'Recreation visitors (2021)[11]': 3064400}, {'Unnamed: 0': 35, 'Name': 'Katmai', 'Image': nan, 'Location': 'Alaska58°30′N 155°00′W\\ufeff / \\ufeff58.50°N 155.00°W', 'Date established as park[7][12]': 'December 2, 1980', 'Area (2021)[13]': '3,674,529.33 acres (14,870.3\\xa0km2)', 'Recreation visitors (2021)[11]': 24764}, {'Unnamed: 0': 36, 'Name': 'Kenai Fjords', 'Image': nan, 'Location': 'Alaska59°55′N 149°39′W\\ufeff / \\ufeff59.92°N 149.65°W', 'Date established as park[7][12]': 'December 2, 1980', 'Area (2021)[13]': '669,650.05 acres (2,710.0\\xa0km2)', 'Recreation visitors (2021)[11]': 411782}, {'Unnamed: 0': 37, 'Name': 'Kings Canyon', 'Image': nan, 'Location': 'California36°48′N 118°33′W\\ufeff / \\ufeff36.80°N 118.55°W', 'Date established as park[7][12]': 'March 4, 1940', 'Area (2021)[13]': '461,901.20 acres (1,869.2\\xa0km2)', 'Recreation visitors (2021)[11]': 562918}, {'Unnamed: 0': 38, 'Name': 'Kobuk Valley', 'Image': nan, 'Location': 'Alaska67°33′N 159°17′W\\ufeff / \\ufeff67.55°N 159.28°W', 'Date established as park[7][12]': 'December 2, 1980', 'Area (2021)[13]': '1,750,716.16 acres (7,084.9\\xa0km2)', 'Recreation visitors (2021)[11]': 11540}, {'Unnamed: 0': 39, 'Name': 'Lake Clark', 'Image': nan, 'Location': 'Alaska60°58′N 153°25′W\\ufeff / \\ufeff60.97°N 153.42°W', 'Date established as park[7][12]': 'December 2, 1980', 'Area (2021)[13]': '2,619,816.49 acres (10,602.0\\xa0km2)', 'Recreation visitors (2021)[11]': 18278}, {'Unnamed: 0': 40, 'Name': 'Lassen Volcanic', 'Image': nan, 'Location': 'California40°29′N 121°31′W\\ufeff / \\ufeff40.49°N 121.51°W', 'Date established as park[7][12]': 'August 9, 1916', 'Area (2021)[13]': '106,589.02 acres (431.4\\xa0km2)', 'Recreation visitors (2021)[11]': 359635}, {'Unnamed: 0': 41, 'Name': 'Mammoth Cave', 'Image': nan, 'Location': 'Kentucky37°11′N 86°06′W\\ufeff / \\ufeff37.18°N 86.10°W', 'Date established as park[7][12]': 'July 1, 1941', 'Area (2021)[13]': '54,016.29 acres (218.6\\xa0km2)', 'Recreation visitors (2021)[11]': 515774}, {'Unnamed: 0': 42, 'Name': 'Mesa Verde *', 'Image': nan, 'Location': 'Colorado37°11′N 108°29′W\\ufeff / \\ufeff37.18°N 108.49°W', 'Date established as park[7][12]': 'June 29, 1906', 'Area (2021)[13]': '52,485.17 acres (212.4\\xa0km2)', 'Recreation visitors (2021)[11]': 548477}, {'Unnamed: 0': 43, 'Name': 'Mount Rainier', 'Image': nan, 'Location': 'Washington46°51′N 121°45′W\\ufeff / \\ufeff46.85°N 121.75°W', 'Date established as park[7][12]': 'March 2, 1899', 'Area (2021)[13]': '236,381.64 acres (956.6\\xa0km2)', 'Recreation visitors (2021)[11]': 1670063}, {'Unnamed: 0': 44, 'Name': 'New River Gorge', 'Image': nan, 'Location': 'West Virginia38°04′N 81°05′W\\ufeff / \\ufeff38.07°N 81.08°W', 'Date established as park[7][12]': 'December 27, 2020', 'Area (2021)[13]': '7,021 acres (28.4\\xa0km2)[92]', 'Recreation visitors (2021)[11]': 1682720}, {'Unnamed: 0': 45, 'Name': 'North Cascades', 'Image': nan, 'Location': 'Washington48°42′N 121°12′W\\ufeff / \\ufeff48.70°N 121.20°W', 'Date established as park[7][12]': 'October 2, 1968', 'Area (2021)[13]': '504,780.94 acres (2,042.8\\xa0km2)', 'Recreation visitors (2021)[11]': 17855}, {'Unnamed: 0': 46, 'Name': 'Olympic', 'Image': nan, 'Location': 'Washington47°58′N 123°30′W\\ufeff / \\ufeff47.97°N 123.50°W', 'Date established as park[7][12]': 'June 29, 1938', 'Area (2021)[13]': '922,649.41 acres (3,733.8\\xa0km2)', 'Recreation visitors (2021)[11]': 2718925}, {'Unnamed: 0': 47, 'Name': 'Petrified Forest', 'Image': nan, 'Location': 'Arizona35°04′N 109°47′W\\ufeff / \\ufeff35.07°N 109.78°W', 'Date established as park[7][12]': 'December 9, 1962', 'Area (2021)[13]': '221,390.21 acres (895.9\\xa0km2)', 'Recreation visitors (2021)[11]': 590334}, {'Unnamed: 0': 48, 'Name': 'Pinnacles', 'Image': nan, 'Location': 'California36°29′N 121°10′W\\ufeff / \\ufeff36.48°N 121.16°W', 'Date established as park[7][12]': 'January 10, 2013', 'Area (2021)[13]': '26,685.73 acres (108.0\\xa0km2)', 'Recreation visitors (2021)[11]': 348857}, {'Unnamed: 0': 49, 'Name': 'Redwood *', 'Image': nan, 'Location': 'California41°18′N 124°00′W\\ufeff / \\ufeff41.30°N 124.00°W', 'Date established as park[7][12]': 'October 2, 1968', 'Area (2021)[13]': '138,999.37 acres (562.5\\xa0km2)', 'Recreation visitors (2021)[11]': 435879}, {'Unnamed: 0': 50, 'Name': 'Rocky Mountain', 'Image': nan, 'Location': 'Colorado40°24′N 105°35′W\\ufeff / \\ufeff40.40°N 105.58°W', 'Date established as park[7][12]': 'January 26, 1915', 'Area (2021)[13]': '265,807.24 acres (1,075.7\\xa0km2)', 'Recreation visitors (2021)[11]': 4434848}, {'Unnamed: 0': 51, 'Name': 'Saguaro', 'Image': nan, 'Location': 'Arizona32°15′N 110°30′W\\ufeff / \\ufeff32.25°N 110.50°W', 'Date established as park[7][12]': 'October 14, 1994', 'Area (2021)[13]': '92,867.42 acres (375.8\\xa0km2)', 'Recreation visitors (2021)[11]': 1079786}, {'Unnamed: 0': 52, 'Name': 'Sequoia', 'Image': nan, 'Location': 'California36°26′N 118°41′W\\ufeff / \\ufeff36.43°N 118.68°W', 'Date established as park[7][12]': 'September 25, 1890', 'Area (2021)[13]': '404,062.63 acres (1,635.2\\xa0km2)', 'Recreation visitors (2021)[11]': 1059548}, {'Unnamed: 0': 53, 'Name': 'Shenandoah', 'Image': nan, 'Location': 'Virginia38°32′N 78°21′W\\ufeff / \\ufeff38.53°N 78.35°W', 'Date established as park[7][12]': 'December 26, 1935', 'Area (2021)[13]': '200,192.09 acres (810.1\\xa0km2)', 'Recreation visitors (2021)[11]': 1592312}, {'Unnamed: 0': 54, 'Name': 'Theodore Roosevelt', 'Image': nan, 'Location': 'North Dakota46°58′N 103°27′W\\ufeff / \\ufeff46.97°N 103.45°W', 'Date established as park[7][12]': 'November 10, 1978', 'Area (2021)[13]': '70,446.89 acres (285.1\\xa0km2)', 'Recreation visitors (2021)[11]': 796085}, {'Unnamed: 0': 55, 'Name': 'Virgin Islands', 'Image': nan, 'Location': 'U.S. Virgin Islands18°20′N 64°44′W\\ufeff / \\ufeff18.33°N 64.73°W', 'Date established as park[7][12]': 'August 2, 1956', 'Area (2021)[13]': '15,052.33 acres (60.9\\xa0km2)', 'Recreation visitors (2021)[11]': 323999}, {'Unnamed: 0': 56, 'Name': 'Voyageurs', 'Image': nan, 'Location': 'Minnesota48°30′N 92°53′W\\ufeff / \\ufeff48.50°N 92.88°W', 'Date established as park[7][12]': 'April 8, 1975', 'Area (2021)[13]': '218,222.35 acres (883.1\\xa0km2)', 'Recreation visitors (2021)[11]': 243042}, {'Unnamed: 0': 57, 'Name': 'White Sands', 'Image': nan, 'Location': 'New Mexico32°47′N 106°10′W\\ufeff / \\ufeff32.78°N 106.17°W', 'Date established as park[7][12]': 'December 20, 2019[112]', 'Area (2021)[13]': '146,344.31 acres (592.2\\xa0km2)', 'Recreation visitors (2021)[11]': 782469}, {'Unnamed: 0': 58, 'Name': 'Wind Cave', 'Image': nan, 'Location': 'South Dakota43°34′N 103°29′W\\ufeff / \\ufeff43.57°N 103.48°W', 'Date established as park[7][12]': 'January 9, 1903', 'Area (2021)[13]': '33,970.84 acres (137.5\\xa0km2)', 'Recreation visitors (2021)[11]': 709001}, {'Unnamed: 0': 59, 'Name': 'Wrangell–St.\\xa0Elias *', 'Image': nan, 'Location': 'Alaska61°00′N 142°00′W\\ufeff / \\ufeff61.00°N 142.00°W', 'Date established as park[7][12]': 'December 2, 1980', 'Area (2021)[13]': '8,323,146.48 acres (33,682.6\\xa0km2)', 'Recreation visitors (2021)[11]': 50189}, {'Unnamed: 0': 60, 'Name': 'Yellowstone', 'Image': nan, 'Location': 'Wyoming, Montana, Idaho44°36′N 110°30′W\\ufeff / \\ufeff44.60°N 110.50°W', 'Date established as park[7][12]': 'March 1, 1872', 'Area (2021)[13]': '2,219,790.71 acres (8,983.2\\xa0km2)', 'Recreation visitors (2021)[11]': 4860242}, {'Unnamed: 0': 61, 'Name': 'Yosemite *', 'Image': nan, 'Location': 'California37°50′N 119°30′W\\ufeff / \\ufeff37.83°N 119.50°W', 'Date established as park[7][12]': 'October 1, 1890', 'Area (2021)[13]': '761,747.50 acres (3,082.7\\xa0km2)', 'Recreation visitors (2021)[11]': 3287595}, {'Unnamed: 0': 62, 'Name': 'Zion', 'Image': nan, 'Location': 'Utah37°18′N 113°03′W\\ufeff / \\ufeff37.30°N 113.05°W', 'Date established as park[7][12]': 'November 19, 1919', 'Area (2021)[13]': '147,242.66 acres (595.9\\xa0km2)', 'Recreation visitors (2021)[11]': 5039835}]\n"
     ]
    }
   ],
   "source": [
    "data = df_2_kaggle.to_dict(\"records\")\n",
    "print(data)"
   ]
  },
  {
   "cell_type": "code",
   "execution_count": 7,
   "id": "755c45b5",
   "metadata": {},
   "outputs": [],
   "source": [
    "from pymongo import MongoClient\n",
    "\n",
    "# Connect to the MongoDB client\n",
    "client = MongoClient()\n",
    "\n",
    "# Access the kaggle collection\n",
    "db = client.NationalTreasure_db\n",
    "collection = db.kaggle\n",
    "\n",
    "# drop existing collection first\n",
    "collection.drop()\n",
    "\n",
    "# Insert the data into the kaggle collection\n",
    "try:\n",
    "    result = collection.insert_many(data)\n",
    "except BulkWriteError as bwe:\n",
    "    print(bwe.details)\n",
    "\n",
    "\n"
   ]
  },
  {
   "cell_type": "code",
   "execution_count": 10,
   "id": "dfb68e48",
   "metadata": {},
   "outputs": [],
   "source": [
    "from mitosheet import *; register_analysis(\"id-qxqrfpvghz\");\n",
    "    \n",
    "# Imported df_2_kaggle.csv\n",
    "import pandas as pd\n",
    "df_2_kaggle = pd.read_csv(r'df_2_kaggle.csv')\n",
    "# Define the 'NationalTreasure_db' database in Mongo\n",
    "db = client.NationalTreasure_db\n",
    "\n",
    "# Drop the 'kaggle' collection from the 'NationalTreasure_db' database\n",
    "db.kaggle.drop()\n",
    "\n"
   ]
  },
  {
   "cell_type": "code",
   "execution_count": 24,
   "id": "40ba20d4",
   "metadata": {},
   "outputs": [
    {
     "data": {
      "text/plain": [
       "<pymongo.results.InsertManyResult at 0x17cc128aa08>"
      ]
     },
     "execution_count": 24,
     "metadata": {},
     "output_type": "execute_result"
    }
   ],
   "source": [
    "# connect to MongoDB\n",
    "client = pymongo.MongoClient('mongodb://localhost:27017/')\n",
    "\n",
    "# select the database and collection\n",
    "db = client.NationalTreasure_db\n",
    "collection = db.kaggle\n",
    "\n",
    "# insert the data\n",
    "collection.insert_many(data)\n"
   ]
  },
  {
   "cell_type": "code",
   "execution_count": null,
   "id": "a40e9dd7",
   "metadata": {},
   "outputs": [],
   "source": []
  }
 ],
 "metadata": {
  "kernelspec": {
   "display_name": "Python 3 (ipykernel)",
   "language": "python",
   "name": "python3"
  },
  "language_info": {
   "codemirror_mode": {
    "name": "ipython",
    "version": 3
   },
   "file_extension": ".py",
   "mimetype": "text/x-python",
   "name": "python",
   "nbconvert_exporter": "python",
   "pygments_lexer": "ipython3",
   "version": "3.7.7"
  }
 },
 "nbformat": 4,
 "nbformat_minor": 5
}
