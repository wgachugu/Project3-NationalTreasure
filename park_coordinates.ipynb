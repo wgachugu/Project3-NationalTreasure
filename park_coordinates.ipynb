{
 "cells": [
  {
   "cell_type": "code",
   "execution_count": 12,
   "id": "7d571140",
   "metadata": {},
   "outputs": [],
   "source": [
    "import requests\n",
    "from bs4 import BeautifulSoup\n",
    "\n",
    "import json\n"
   ]
  },
  {
   "cell_type": "code",
   "execution_count": 2,
   "id": "1fdae97e",
   "metadata": {},
   "outputs": [],
   "source": [
    "# Send a request to the website\n",
    "response = requests.get('https://www.latlong.net/category/national-parks-236-42.html')\n",
    "\n",
    "# Retrieve the HTML content\n",
    "html = response.content"
   ]
  },
  {
   "cell_type": "code",
   "execution_count": 3,
   "id": "fa41907d",
   "metadata": {},
   "outputs": [],
   "source": [
    "# Create a Beautiful Soup object\n",
    "soup = BeautifulSoup(html, 'html.parser')"
   ]
  },
  {
   "cell_type": "code",
   "execution_count": 4,
   "id": "c44eee92",
   "metadata": {},
   "outputs": [
    {
     "name": "stdout",
     "output_type": "stream",
     "text": [
      "[{'Place Name': 'Capitol Reef National Park, UT, USA', 'Latitude': '38.089600', 'Longitude': '-111.149910'}, {'Place Name': 'Pinnacles National Park, CA, USA', 'Latitude': '36.491508', 'Longitude': '-121.197243'}, {'Place Name': 'Rocky Mountain National Park, CO, USA', 'Latitude': '40.343182', 'Longitude': '-105.688103'}, {'Place Name': 'Offshore Trap/Pot Waters Area, Western Atlantic Ocean, the US', 'Latitude': '38.000000', 'Longitude': '-82.000000'}, {'Place Name': 'Steller Sea Lion Protection Area, AL, the US', 'Latitude': '57.466667', 'Longitude': '-153.433334'}, {'Place Name': 'Pacific Remote Islands Marine National Monument, the US', 'Latitude': '16.736944', 'Longitude': '-169.523895'}, {'Place Name': 'Danville Conservation Area, New Florence, MO, USA', 'Latitude': '38.865097', 'Longitude': '-91.504852'}, {'Place Name': 'Sand Harbor State Park, Incline Village, NV, USA', 'Latitude': '39.198364', 'Longitude': '-119.930984'}, {'Place Name': 'White Sands National Park, NM, the US', 'Latitude': '32.779720', 'Longitude': '-106.171669'}, {'Place Name': 'Jackson Hole, WY, USA', 'Latitude': '43.582767', 'Longitude': '-110.821999'}, {'Place Name': 'Mojave National Preserve, Kelso, CA, USA', 'Latitude': '35.141689', 'Longitude': '-115.510399'}, {'Place Name': 'Joshua Tree National Park, California, USA', 'Latitude': '33.881866', 'Longitude': '-115.900650'}, {'Place Name': 'Buffalo National River, St Joe, AR, USA', 'Latitude': '35.985512', 'Longitude': '-92.757652'}, {'Place Name': 'Hot Springs National Park, Hot Springs, AR, USA', 'Latitude': '34.521530', 'Longitude': '-93.042267'}, {'Place Name': 'Kartchner Caverns State Park, Benson, AZ, USA', 'Latitude': '31.837551', 'Longitude': '-110.347382'}, {'Place Name': 'Navajo Nation Reservation, New Mexico, USA', 'Latitude': '36.075321', 'Longitude': '-109.196930'}, {'Place Name': 'Sipsey Wilderness, Mt Hope, AL, USA', 'Latitude': '34.332035', 'Longitude': '-87.434799'}, {'Place Name': 'Wrangell-St. Elias National Park & Preserve, Alaska, USA', 'Latitude': '61.710445', 'Longitude': '-142.985687'}, {'Place Name': 'Lake Clark National Park and Preserve, Port Alsworth, AK, USA', 'Latitude': '60.412697', 'Longitude': '-154.323502'}, {'Place Name': 'Katmai National Park and Preserve, King Salmon, AK, USA', 'Latitude': '58.597813', 'Longitude': '-154.693756'}, {'Place Name': 'Glacier Bay National Park and Preserve, Alaska, USA', 'Latitude': '58.665806', 'Longitude': '-136.900208'}, {'Place Name': 'Turtle Mountain, ND, USA', 'Latitude': '48.852882', 'Longitude': '-99.803535'}, {'Place Name': 'Odiorne Point State Park, Rye, NH, USA', 'Latitude': '43.049023', 'Longitude': '-70.720192'}, {'Place Name': 'Channel Islands National Park, Ventura, CA, USA', 'Latitude': '33.998028', 'Longitude': '-119.772949'}, {'Place Name': 'Maplewood State Park, Pelican Rapids, MN, USA', 'Latitude': '46.520966', 'Longitude': '-95.951576'}, {'Place Name': 'Bear Butte State Park, Sturgis, SD, USA', 'Latitude': '44.475296', 'Longitude': '-103.424309'}, {'Place Name': 'Okefenokee National Wildlife Refuge, Folkston, GA, USA', 'Latitude': '30.773230', 'Longitude': '-82.292732'}, {'Place Name': 'Denali National Park and Preserve, Alaska, USA', 'Latitude': '63.129887', 'Longitude': '-151.197418'}, {'Place Name': 'Acadia National Park, Maine, USA', 'Latitude': '44.338974', 'Longitude': '-68.273430'}, {'Place Name': 'Topanga State Park, Topanga, CA, USA', 'Latitude': '34.093182', 'Longitude': '-118.587318'}, {'Place Name': 'Gates of the Arctic National Park and Preserve, AK, USA', 'Latitude': '67.915199', 'Longitude': '-153.463730'}, {'Place Name': 'Kaloko-Honokōhau National Historical Park, Kailua-Kona, HI, USA', 'Latitude': '19.678328', 'Longitude': '-156.020477'}, {'Place Name': 'Pedernales Falls State Park, Johnson City, TX, USA', 'Latitude': '30.308069', 'Longitude': '-98.257729'}, {'Place Name': 'Whiskeytown National Recreation Area, Whiskeytown, CA, USA', 'Latitude': '40.633495', 'Longitude': '-122.564247'}, {'Place Name': 'Mesa Verde National Park, Mesa Verde, CO, USA', 'Latitude': '37.230873', 'Longitude': '-108.461838'}, {'Place Name': 'Arches National Park, Utah, USA', 'Latitude': '38.733082', 'Longitude': '-109.592514'}, {'Place Name': 'Mount Rainier National Park, Washington, USA', 'Latitude': '46.879967', 'Longitude': '-121.726906'}, {'Place Name': 'Kenai Fjords National Park, Alaska, USA', 'Latitude': '60.043777', 'Longitude': '-149.816360'}, {'Place Name': 'Anahuac National Wildlife Refuge, Anahuac, TX, USA', 'Latitude': '29.610300', 'Longitude': '-94.449081'}, {'Place Name': 'Bandelier National Monument, Los Alamos, NM, USA', 'Latitude': '35.767288', 'Longitude': '-106.311607'}, {'Place Name': 'Summit Bechtel Reserve, Glen Jean, WV, USA', 'Latitude': '37.916035', 'Longitude': '-81.123047'}, {'Place Name': 'Yellowstone National Park, WY, USA', 'Latitude': '44.427895', 'Longitude': '-110.588379'}, {'Place Name': 'Rothrock State Forest, State College, PA, USA', 'Latitude': '40.720585', 'Longitude': '-77.826965'}, {'Place Name': 'Great Smoky Mountains National Park, Tennessee, USA', 'Latitude': '35.611763', 'Longitude': '-83.489548'}, {'Place Name': 'Zion National Park, Utah, USA', 'Latitude': '37.297817', 'Longitude': '-113.028770'}, {'Place Name': 'Yosemite National Park, California, USA', 'Latitude': '37.865101', 'Longitude': '-119.538330'}, {'Place Name': 'Yellowstone National Park, Wyoming, USA', 'Latitude': '44.429764', 'Longitude': '-110.584663'}, {'Place Name': 'Haleakalā National Park, Hawaii, USA', 'Latitude': '20.701283', 'Longitude': '-156.173325'}, {'Place Name': 'Malibu Creek State Park, Calabasas, CA, USA', 'Latitude': '34.105156', 'Longitude': '-118.731316'}, {'Place Name': 'Manti-La Sal National Forest, Price, UT, USA', 'Latitude': '39.187050', 'Longitude': '-111.379890'}, {'Place Name': 'Cherry Creek State Park, Aurora, CO, USA', 'Latitude': '39.639973', 'Longitude': '-104.831863'}, {'Place Name': 'Kissimmee Prairie Preserve State Park, Okeechobee, FL, USA', 'Latitude': '27.612417', 'Longitude': '-81.053383'}, {'Place Name': 'Garden of Gods, Colorado Springs, CO, USA', 'Latitude': '38.873840', 'Longitude': '-104.886665'}, {'Place Name': 'Petrified Forest National Park, Arizona, USA', 'Latitude': '34.909988', 'Longitude': '-109.806793'}, {'Place Name': 'Fort Berthold Indian Reservation, ND, USA', 'Latitude': '47.683880', 'Longitude': '-102.354126'}, {'Place Name': 'Chattahoochee National Forest, Suches, GA, USA', 'Latitude': '34.765972', 'Longitude': '-84.143517'}, {'Place Name': 'Little Sandy National Wildlife Refuge, Lindale, TX, USA', 'Latitude': '32.590797', 'Longitude': '-95.273666'}, {'Place Name': 'Siuslaw National Forest, Tidewater, OR, USA', 'Latitude': '44.358715', 'Longitude': '-123.829994'}, {'Place Name': 'Kings Canyon National Park, California, USA', 'Latitude': '36.887856', 'Longitude': '-118.555145'}, {'Place Name': 'Ruffner Mountain Nature Center, Birmingham, AL, USA', 'Latitude': '33.558990', 'Longitude': '-86.707016'}, {'Place Name': 'Yellowstone National Park, WY, USA', 'Latitude': '44.427284', 'Longitude': '-110.584389'}, {'Place Name': 'Kings Mountain State Park, Blacksburg, SC, USA', 'Latitude': '35.130459', 'Longitude': '-81.345444'}, {'Place Name': 'Honolulu Watershed Forest Preserve, Honolulu, HI, USA', 'Latitude': '21.363251', 'Longitude': '-157.781265'}, {'Place Name': 'Oleta River State Park, North Miami, FL, USA', 'Latitude': '25.921614', 'Longitude': '-80.144402'}, {'Place Name': 'Grant Park, Chicago, IL, USA', 'Latitude': '41.876465', 'Longitude': '-87.621887'}, {'Place Name': 'Wisconsin Interstate State Park, USA', 'Latitude': '45.398449', 'Longitude': '-92.645126'}, {'Place Name': 'Bridge Creek Wildlife Area, Ukiah, OR, USA', 'Latitude': '45.043449', 'Longitude': '-118.949318'}, {'Place Name': 'Willamette National Forest, Blue River, OR, USA', 'Latitude': '44.060471', 'Longitude': '-122.091736'}, {'Place Name': 'Golden Gate Canyon State Park, CA, USA', 'Latitude': '39.814339', 'Longitude': '-105.395622'}, {'Place Name': 'William F Hayden Green Mountain Park, Lakewood, CO, USA', 'Latitude': '39.702827', 'Longitude': '-105.175636'}, {'Place Name': 'Cades Cove, Great Smoky Mountains National Park, Tennessee, USA', 'Latitude': '35.593670', 'Longitude': '-83.824997'}, {'Place Name': 'Lantz Farm and Nature Preserve, WV, USA', 'Latitude': '39.516754', 'Longitude': '-80.649948'}, {'Place Name': 'Myakka State Forest, Englewood, FL, USA', 'Latitude': '26.988386', 'Longitude': '-82.286552'}, {'Place Name': 'Lake Eola Park, Orlando, FL, USA', 'Latitude': '28.545021', 'Longitude': '-81.372856'}, {'Place Name': 'Gulf State Park, Gulf Shores, AL, USA', 'Latitude': '30.262793', 'Longitude': '-87.636337'}, {'Place Name': 'Egypt Valley Wildlife Area, OH, USA', 'Latitude': '40.115486', 'Longitude': '-81.114090'}, {'Place Name': 'Kennesaw Mountain National Battlefield Park, Cobb County, Georgia, USA', 'Latitude': '33.976376', 'Longitude': '-84.579163'}, {'Place Name': 'Shenandoah National Park, Shenandoah, VA, USA', 'Latitude': '38.700516', 'Longitude': '-78.292694'}, {'Place Name': 'Ricketts Glen State Park, PA, USA', 'Latitude': '41.339184', 'Longitude': '-76.290436'}, {'Place Name': 'El Dorado State Park, Kansas, USA', 'Latitude': '37.866047', 'Longitude': '-96.756935'}, {'Place Name': 'Polihale State Park, Waimea, HI, USA', 'Latitude': '22.079357', 'Longitude': '-159.761642'}, {'Place Name': 'Everglades National Park, FL, USA', 'Latitude': '25.286615', 'Longitude': '-80.898651'}, {'Place Name': 'Mt Hood National Forest, OR, USA', 'Latitude': '45.227173', 'Longitude': '-121.839455'}, {'Place Name': 'Bryce Canyon National Park, Utah, USA', 'Latitude': '37.593048', 'Longitude': '-112.187332'}, {'Place Name': 'Mammoth Cave National Park, KY, USA', 'Latitude': '37.183640', 'Longitude': '-86.159943'}, {'Place Name': 'Redwood National and State Parks, CA, USA', 'Latitude': '41.213181', 'Longitude': '-124.004631'}, {'Place Name': 'Yellowstone National Park, USA', 'Latitude': '44.423691', 'Longitude': '-110.588516'}]\n"
     ]
    }
   ],
   "source": [
    "# Find all of the table rows\n",
    "rows = soup.find_all('tr')\n",
    "\n",
    "# Create an empty list to store the data\n",
    "data = []\n",
    "\n",
    "# Iterate through the rows\n",
    "for row in rows:\n",
    "    # Find all of the cells in the row\n",
    "    cells = row.find_all('td')\n",
    "    \n",
    "    # If the row has cells, extract the data from the cells\n",
    "    if cells:\n",
    "        place_name = cells[0].text.strip()\n",
    "        latitude = cells[1].text.strip()\n",
    "        longitude = cells[2].text.strip()\n",
    "        \n",
    "        # Add the data to the list\n",
    "        data.append({\n",
    "            'Place Name': place_name,\n",
    "            'Latitude': latitude,\n",
    "            'Longitude': longitude\n",
    "        })\n",
    "\n",
    "# Print the data\n",
    "print(data)\n"
   ]
  },
  {
   "cell_type": "code",
   "execution_count": 5,
   "id": "a6889acb",
   "metadata": {
    "scrolled": true
   },
   "outputs": [
    {
     "name": "stdout",
     "output_type": "stream",
     "text": [
      "                                           Place Name   Latitude    Longitude\n",
      "0                 Capitol Reef National Park, UT, USA  38.089600  -111.149910\n",
      "1                    Pinnacles National Park, CA, USA  36.491508  -121.197243\n",
      "2               Rocky Mountain National Park, CO, USA  40.343182  -105.688103\n",
      "3   Offshore Trap/Pot Waters Area, Western Atlanti...  38.000000   -82.000000\n",
      "4        Steller Sea Lion Protection Area, AL, the US  57.466667  -153.433334\n",
      "..                                                ...        ...          ...\n",
      "82                   Mt Hood National Forest, OR, USA  45.227173  -121.839455\n",
      "83              Bryce Canyon National Park, Utah, USA  37.593048  -112.187332\n",
      "84                Mammoth Cave National Park, KY, USA  37.183640   -86.159943\n",
      "85          Redwood National and State Parks, CA, USA  41.213181  -124.004631\n",
      "86                     Yellowstone National Park, USA  44.423691  -110.588516\n",
      "\n",
      "[87 rows x 3 columns]\n"
     ]
    }
   ],
   "source": [
    "# Create a dataframe from the data\n",
    "df = pd.DataFrame(data)\n",
    "\n",
    "# Print the resulting dataframe\n",
    "print(df)"
   ]
  },
  {
   "cell_type": "code",
   "execution_count": 6,
   "id": "9e9469cb",
   "metadata": {},
   "outputs": [
    {
     "name": "stdout",
     "output_type": "stream",
     "text": [
      "                          Place Name   Latitude    Longitude\n",
      "0         Capitol Reef National Park  38.089600  -111.149910\n",
      "1            Pinnacles National Park  36.491508  -121.197243\n",
      "2       Rocky Mountain National Park  40.343182  -105.688103\n",
      "3      Offshore Trap/Pot Waters Area  38.000000   -82.000000\n",
      "4   Steller Sea Lion Protection Area  57.466667  -153.433334\n",
      "..                               ...        ...          ...\n",
      "82           Mt Hood National Forest  45.227173  -121.839455\n",
      "83        Bryce Canyon National Park  37.593048  -112.187332\n",
      "84        Mammoth Cave National Park  37.183640   -86.159943\n",
      "85  Redwood National and State Parks  41.213181  -124.004631\n",
      "86         Yellowstone National Park  44.423691  -110.588516\n",
      "\n",
      "[87 rows x 3 columns]\n"
     ]
    }
   ],
   "source": [
    "\n",
    "\n",
    "# Define a function to extract the place name\n",
    "def extract_place_name(name):\n",
    "    # Split the string by ', '\n",
    "    parts = name.split(', ')\n",
    "    \n",
    "    # Return the first part (the place name)\n",
    "    return parts[0]\n",
    "\n",
    "# Apply the function to the 'Place Name' column\n",
    "df['Place Name'] = df['Place Name'].apply(extract_place_name)\n",
    "\n",
    "# Print the resulting dataframe\n",
    "print(df)"
   ]
  },
  {
   "cell_type": "code",
   "execution_count": 7,
   "id": "1d6f3e03",
   "metadata": {},
   "outputs": [
    {
     "name": "stdout",
     "output_type": "stream",
     "text": [
      "                          Place Name   Latitude    Longitude  \\\n",
      "0         Capitol Reef National Park  38.089600  -111.149910   \n",
      "1            Pinnacles National Park  36.491508  -121.197243   \n",
      "2       Rocky Mountain National Park  40.343182  -105.688103   \n",
      "3      Offshore Trap/Pot Waters Area  38.000000   -82.000000   \n",
      "4   Steller Sea Lion Protection Area  57.466667  -153.433334   \n",
      "..                               ...        ...          ...   \n",
      "82           Mt Hood National Forest  45.227173  -121.839455   \n",
      "83        Bryce Canyon National Park  37.593048  -112.187332   \n",
      "84        Mammoth Cave National Park  37.183640   -86.159943   \n",
      "85  Redwood National and State Parks  41.213181  -124.004631   \n",
      "86         Yellowstone National Park  44.423691  -110.588516   \n",
      "\n",
      "                    coords  \n",
      "0   38.089600, -111.149910  \n",
      "1   36.491508, -121.197243  \n",
      "2   40.343182, -105.688103  \n",
      "3    38.000000, -82.000000  \n",
      "4   57.466667, -153.433334  \n",
      "..                     ...  \n",
      "82  45.227173, -121.839455  \n",
      "83  37.593048, -112.187332  \n",
      "84   37.183640, -86.159943  \n",
      "85  41.213181, -124.004631  \n",
      "86  44.423691, -110.588516  \n",
      "\n",
      "[87 rows x 4 columns]\n"
     ]
    }
   ],
   "source": [
    "# Define a function to combine the 'Latitude' and 'Longitude' columns\n",
    "def combine_coords(row):\n",
    "    # Concatenate the 'Latitude' and 'Longitude' values with a comma separator\n",
    "    coords = f\"{row['Latitude']}, {row['Longitude']}\"\n",
    "    \n",
    "    # Return the resulting string\n",
    "    return coords\n",
    "\n",
    "# Apply the function to each row in the dataframe\n",
    "df['coords'] = df.apply(combine_coords, axis=1)\n",
    "\n",
    "# Print the resulting dataframe\n",
    "print(df)"
   ]
  },
  {
   "cell_type": "code",
   "execution_count": 8,
   "id": "cfef33a0",
   "metadata": {},
   "outputs": [
    {
     "name": "stdout",
     "output_type": "stream",
     "text": [
      "                          Place Name                  coords\n",
      "0         Capitol Reef National Park  38.089600, -111.149910\n",
      "1            Pinnacles National Park  36.491508, -121.197243\n",
      "2       Rocky Mountain National Park  40.343182, -105.688103\n",
      "3      Offshore Trap/Pot Waters Area   38.000000, -82.000000\n",
      "4   Steller Sea Lion Protection Area  57.466667, -153.433334\n",
      "..                               ...                     ...\n",
      "82           Mt Hood National Forest  45.227173, -121.839455\n",
      "83        Bryce Canyon National Park  37.593048, -112.187332\n",
      "84        Mammoth Cave National Park   37.183640, -86.159943\n",
      "85  Redwood National and State Parks  41.213181, -124.004631\n",
      "86         Yellowstone National Park  44.423691, -110.588516\n",
      "\n",
      "[87 rows x 2 columns]\n"
     ]
    }
   ],
   "source": [
    "\n",
    "# Drop the 'Latitude' and 'Longitude' columns\n",
    "df2 = df.drop(columns=['Latitude', 'Longitude'])\n",
    "\n",
    "# Print the resulting dataframe\n",
    "print(df2)"
   ]
  },
  {
   "cell_type": "code",
   "execution_count": 9,
   "id": "daaa5fb3",
   "metadata": {
    "scrolled": true
   },
   "outputs": [
    {
     "name": "stdout",
     "output_type": "stream",
     "text": [
      "                          Place Name   Latitude    Longitude  \\\n",
      "0         Capitol Reef National Park  38.089600  -111.149910   \n",
      "1            Pinnacles National Park  36.491508  -121.197243   \n",
      "2       Rocky Mountain National Park  40.343182  -105.688103   \n",
      "3      Offshore Trap/Pot Waters Area  38.000000   -82.000000   \n",
      "4   Steller Sea Lion Protection Area  57.466667  -153.433334   \n",
      "..                               ...        ...          ...   \n",
      "83        Bryce Canyon National Park  37.593048  -112.187332   \n",
      "84        Mammoth Cave National Park  37.183640   -86.159943   \n",
      "85  Redwood National and State Parks  41.213181  -124.004631   \n",
      "86         Yellowstone National Park  44.423691  -110.588516   \n",
      "87    Yellowstone National Park, USA  44.423691  -110.588516   \n",
      "\n",
      "                    coords  \n",
      "0   38.089600, -111.149910  \n",
      "1   36.491508, -121.197243  \n",
      "2   40.343182, -105.688103  \n",
      "3    38.000000, -82.000000  \n",
      "4   57.466667, -153.433334  \n",
      "..                     ...  \n",
      "83  37.593048, -112.187332  \n",
      "84   37.183640, -86.159943  \n",
      "85  41.213181, -124.004631  \n",
      "86  44.423691, -110.588516  \n",
      "87                     NaN  \n",
      "\n",
      "[88 rows x 4 columns]\n"
     ]
    }
   ],
   "source": [
    "# Create an empty dataframe\n",
    "df3 = pd.DataFrame(columns=['Place Name', 'coords'])\n",
    "\n",
    "# Iterate over the rows of the data\n",
    "for row in data:\n",
    "    # Append the row to the dataframe\n",
    "    df3 = df.append(row, ignore_index=True)\n",
    "\n",
    "# Print the resulting dataframe\n",
    "print(df3)"
   ]
  },
  {
   "cell_type": "code",
   "execution_count": 14,
   "id": "f2092ce2",
   "metadata": {
    "scrolled": true
   },
   "outputs": [
    {
     "name": "stdout",
     "output_type": "stream",
     "text": [
      "                          Place Name                  coords\n",
      "0         Capitol Reef National Park  38.089600, -111.149910\n",
      "1            Pinnacles National Park  36.491508, -121.197243\n",
      "2       Rocky Mountain National Park  40.343182, -105.688103\n",
      "3      Offshore Trap/Pot Waters Area   38.000000, -82.000000\n",
      "4   Steller Sea Lion Protection Area  57.466667, -153.433334\n",
      "..                               ...                     ...\n",
      "82           Mt Hood National Forest  45.227173, -121.839455\n",
      "83        Bryce Canyon National Park  37.593048, -112.187332\n",
      "84        Mammoth Cave National Park   37.183640, -86.159943\n",
      "85  Redwood National and State Parks  41.213181, -124.004631\n",
      "86         Yellowstone National Park  44.423691, -110.588516\n",
      "\n",
      "[87 rows x 2 columns]\n"
     ]
    }
   ],
   "source": [
    "df4 = df3.dropna(subset=['coords'])\n",
    "\n",
    "# Print the resulting dataframe\n",
    "print(df4)"
   ]
  },
  {
   "cell_type": "code",
   "execution_count": 15,
   "id": "b2a04947",
   "metadata": {},
   "outputs": [],
   "source": [
    "df4.to_json(r'coords.json', orient='records')"
   ]
  },
  {
   "cell_type": "code",
   "execution_count": null,
   "id": "34ed7b7b",
   "metadata": {},
   "outputs": [],
   "source": []
  }
 ],
 "metadata": {
  "kernelspec": {
   "display_name": "Python 3 (ipykernel)",
   "language": "python",
   "name": "python3"
  },
  "language_info": {
   "codemirror_mode": {
    "name": "ipython",
    "version": 3
   },
   "file_extension": ".py",
   "mimetype": "text/x-python",
   "name": "python",
   "nbconvert_exporter": "python",
   "pygments_lexer": "ipython3",
   "version": "3.7.7"
  }
 },
 "nbformat": 4,
 "nbformat_minor": 5
}
